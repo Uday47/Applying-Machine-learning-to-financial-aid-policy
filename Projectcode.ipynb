{
  "nbformat": 4,
  "nbformat_minor": 0,
  "metadata": {
    "colab": {
      "name": "DG Capstone Project 2.ipynb",
      "provenance": [],
      "collapsed_sections": [],
      "toc_visible": true,
      "authorship_tag": "ABX9TyN64JJBaj9C2OjgqlrU4Nd/"
    },
    "kernelspec": {
      "name": "python3",
      "display_name": "Python 3"
    }
  },
  "cells": [
    {
      "cell_type": "markdown",
      "metadata": {
        "id": "usosciY7992j",
        "colab_type": "text"
      },
      "source": [
        "#Applying Machine Learning to Financial Aid Policy#"
      ]
    },
    {
      "cell_type": "markdown",
      "metadata": {
        "id": "Wcn2U1px-vA0",
        "colab_type": "text"
      },
      "source": [
        "## 1 - Packages ##\n",
        "\n",
        "First, let's run the cell below to import all the packages that you will need during this assignment. \n",
        "- [numpy](www.numpy.org) is the fundamental package for scientific computing with Python.\n",
        "- [pandas](https://pandas.pydata.org/) is a fast, powerful, flexible and easy to use open source data analysis and manipulation tool.\n",
        "- [matplotlib](http://matplotlib.org) is a famous library to plot graphs in Python.\n",
        "- [sklearn](https://scikit-learn.org/) is a free software machine learning library for the Python programming language. It features various classification, regression and clustering algorithms. "
      ]
    },
    {
      "cell_type": "code",
      "metadata": {
        "id": "IiNw7QQ8i-zA",
        "colab_type": "code",
        "colab": {}
      },
      "source": [
        "import pandas as pd\n",
        "import matplotlib.pyplot as plt\n",
        "import numpy as np\n",
        "from sklearn.model_selection import GridSearchCV\n",
        "from sklearn.linear_model import LogisticRegressionCV\n",
        "from sklearn.metrics import accuracy_score\n",
        "from sklearn.model_selection import train_test_split\n",
        "%matplotlib inline\n"
      ],
      "execution_count": null,
      "outputs": []
    },
    {
      "cell_type": "markdown",
      "metadata": {
        "id": "8k5b2VCiBcoT",
        "colab_type": "text"
      },
      "source": [
        "## 2 - Overview of the Problem set ##\n",
        "\n",
        "**Problem Statement**: You are given a dataset containing details of Financial aid applicants such as their Electricity bill, School_fees, Income class they belong to etc. We can automate the Financial Aid approval process which will save both time and effort. \n",
        "\n",
        "We will build a simple logistic regression algorithm that can correctly classify two things.\n",
        "\n",
        "1.   Is the applicant eligible for Financial aid.\n",
        "2.   If yes, then how much should be the waiver.\n",
        "\n",
        "Let's get more familiar with the dataset. Load the data by running the following code.\n",
        "\n",
        "Note: Upload the dataset file to the runtime first."
      ]
    },
    {
      "cell_type": "markdown",
      "metadata": {
        "id": "bnL1Vad4DNPj",
        "colab_type": "text"
      },
      "source": [
        "## 3 - Logistic Regression ##\n",
        "Logistic regression is a supervised learning classification algorithm used to predict the probability of a target variable. The nature of target or dependent variable is dichotomous, which means there would be only two possible classes.\n",
        "\n",
        "In simple words, the dependent variable is binary in nature having data coded as either 1 (stands for success/yes) or 0 (stands for failure/no).\n",
        "\n",
        "Mathematically, a logistic regression model predicts P(Y=1) as a function of X. It is one of the simplest ML algorithms that can be used for various classification problems such as spam detection, Diabetes prediction, cancer detection etc.\n",
        "<img\n",
        "src=\"https://ibm.box.com/shared/static/kgv9alcghmjcv97op4d6onkyxevk23b1.png\" width=\"400\" align=\"center\">)<img\n",
        "src=\"https://miro.medium.com/max/1280/1*OUOB_YF41M-O4GgZH_F2rw.png\" width=\"400\" align=\"center\">"
      ]
    },
    {
      "cell_type": "markdown",
      "metadata": {
        "id": "2zayDQfvFw4M",
        "colab_type": "text"
      },
      "source": [
        "##4 - About the datasest##\n",
        "We will use a demo Finanical aid dataset for predicting eligibilty of the candidate and the discount that shall be given. Each row represents one Candidate. The data is relatively easy to understand, and you may uncover insights you can use immediately.\n",
        "We analyze the relations that lie in the dataset and use it to automate the approval process which will save time and effort.\n",
        "\n",
        "Note: For more information about the dataset, please refer the report.\n",
        "\n",
        "Now, read data using pandas dataframe:"
      ]
    },
    {
      "cell_type": "code",
      "metadata": {
        "id": "Z1ZdbKDdc0Y8",
        "colab_type": "code",
        "colab": {
          "base_uri": "https://localhost:8080/",
          "height": 204
        },
        "outputId": "859344e6-ea2b-4b37-c0b8-6a258a82e050"
      },
      "source": [
        "data = pd.read_csv(\"/content/ShuffledDS.csv\")\n",
        "data.head()"
      ],
      "execution_count": null,
      "outputs": [
        {
          "output_type": "execute_result",
          "data": {
            "text/html": [
              "<div>\n",
              "<style scoped>\n",
              "    .dataframe tbody tr th:only-of-type {\n",
              "        vertical-align: middle;\n",
              "    }\n",
              "\n",
              "    .dataframe tbody tr th {\n",
              "        vertical-align: top;\n",
              "    }\n",
              "\n",
              "    .dataframe thead th {\n",
              "        text-align: right;\n",
              "    }\n",
              "</style>\n",
              "<table border=\"1\" class=\"dataframe\">\n",
              "  <thead>\n",
              "    <tr style=\"text-align: right;\">\n",
              "      <th></th>\n",
              "      <th>Name</th>\n",
              "      <th>Electricity_bill</th>\n",
              "      <th>Income_class</th>\n",
              "      <th>School_fees</th>\n",
              "      <th>Exception</th>\n",
              "      <th>Aid_eligibility</th>\n",
              "      <th>Aid_percent</th>\n",
              "    </tr>\n",
              "  </thead>\n",
              "  <tbody>\n",
              "    <tr>\n",
              "      <th>0</th>\n",
              "      <td>PRATEEK</td>\n",
              "      <td>4235</td>\n",
              "      <td>6</td>\n",
              "      <td>83097</td>\n",
              "      <td>0</td>\n",
              "      <td>0</td>\n",
              "      <td>0</td>\n",
              "    </tr>\n",
              "    <tr>\n",
              "      <th>1</th>\n",
              "      <td>GIRISH</td>\n",
              "      <td>4100</td>\n",
              "      <td>2</td>\n",
              "      <td>87792</td>\n",
              "      <td>0</td>\n",
              "      <td>1</td>\n",
              "      <td>50</td>\n",
              "    </tr>\n",
              "    <tr>\n",
              "      <th>2</th>\n",
              "      <td>shrinidhi</td>\n",
              "      <td>4036</td>\n",
              "      <td>6</td>\n",
              "      <td>90266</td>\n",
              "      <td>0</td>\n",
              "      <td>0</td>\n",
              "      <td>0</td>\n",
              "    </tr>\n",
              "    <tr>\n",
              "      <th>3</th>\n",
              "      <td>arti</td>\n",
              "      <td>1668</td>\n",
              "      <td>3</td>\n",
              "      <td>18965</td>\n",
              "      <td>0</td>\n",
              "      <td>1</td>\n",
              "      <td>25</td>\n",
              "    </tr>\n",
              "    <tr>\n",
              "      <th>4</th>\n",
              "      <td>Rajeev</td>\n",
              "      <td>2910</td>\n",
              "      <td>1</td>\n",
              "      <td>40356</td>\n",
              "      <td>0</td>\n",
              "      <td>1</td>\n",
              "      <td>75</td>\n",
              "    </tr>\n",
              "  </tbody>\n",
              "</table>\n",
              "</div>"
            ],
            "text/plain": [
              "        Name  Electricity_bill  ...  Aid_eligibility  Aid_percent\n",
              "0    PRATEEK              4235  ...                0            0\n",
              "1     GIRISH              4100  ...                1           50\n",
              "2  shrinidhi              4036  ...                0            0\n",
              "3       arti              1668  ...                1           25\n",
              "4     Rajeev              2910  ...                1           75\n",
              "\n",
              "[5 rows x 7 columns]"
            ]
          },
          "metadata": {
            "tags": []
          },
          "execution_count": 2
        }
      ]
    },
    {
      "cell_type": "markdown",
      "metadata": {
        "id": "ruiubZidJCgz",
        "colab_type": "text"
      },
      "source": [
        "## 5 - Data visualisation ##\n",
        "By using visual elements like charts, graphs, and maps, data visualization tools provide an accessible way to see and understand trends, outliers, and patterns in data."
      ]
    },
    {
      "cell_type": "markdown",
      "metadata": {
        "id": "RO4LReBgbqRT",
        "colab_type": "text"
      },
      "source": [
        "####Electricity Bill -  Most recent electricity bill amount (0-5000 INR)\n"
      ]
    },
    {
      "cell_type": "code",
      "metadata": {
        "id": "_ZvRXI2MJjCR",
        "colab_type": "code",
        "colab": {
          "base_uri": "https://localhost:8080/",
          "height": 296
        },
        "outputId": "2c948f71-10e9-4d56-e273-d69263ee4c5d"
      },
      "source": [
        "plt.plot(data['Electricity_bill'])\n",
        "plt.xlabel(\"Applicant number\")\n",
        "plt.ylabel(\"Electricity bill (in rupees)\")"
      ],
      "execution_count": null,
      "outputs": [
        {
          "output_type": "execute_result",
          "data": {
            "text/plain": [
              "Text(0, 0.5, 'Electricity bill (in rupees)')"
            ]
          },
          "metadata": {
            "tags": []
          },
          "execution_count": 17
        },
        {
          "output_type": "display_data",
          "data": {
            "image/png": "[encoded data removed]",
            "text/plain": [
              "<Figure size 432x288 with 1 Axes>"
            ]
          },
          "metadata": {
            "tags": [],
            "needs_background": "light"
          }
        }
      ]
    },
    {
      "cell_type": "markdown",
      "metadata": {
        "id": "JMacE9xzchKR",
        "colab_type": "text"
      },
      "source": [
        "####School fees -  School fees of the institution they attend(in INR)."
      ]
    },
    {
      "cell_type": "code",
      "metadata": {
        "id": "I4pyNuJKcf7A",
        "colab_type": "code",
        "colab": {
          "base_uri": "https://localhost:8080/",
          "height": 296
        },
        "outputId": "49b5b105-a204-4c2b-ee1f-0209bc4b7dd8"
      },
      "source": [
        "plt.plot(data['School_fees'])\n",
        "plt.xlabel(\"Applicant number\")\n",
        "plt.ylabel(\"School fees (in rupees)\")"
      ],
      "execution_count": null,
      "outputs": [
        {
          "output_type": "execute_result",
          "data": {
            "text/plain": [
              "Text(0, 0.5, 'School fees (in rupees)')"
            ]
          },
          "metadata": {
            "tags": []
          },
          "execution_count": 19
        },
        {
          "output_type": "display_data",
          "data": {
            "image/png": "[encoded data removed]",
            "text/plain": [
              "<Figure size 432x288 with 1 Axes>"
            ]
          },
          "metadata": {
            "tags": [],
            "needs_background": "light"
          }
        }
      ]
    },
    {
      "cell_type": "markdown",
      "metadata": {
        "id": "jUsjjj0vJSkc",
        "colab_type": "text"
      },
      "source": [
        "####Exception - Special cases (When the income of the candidate is relatively high but they show genuine need for financial aid. Example: All the money is being spent on an ailing family member.)\n"
      ]
    },
    {
      "cell_type": "code",
      "metadata": {
        "id": "ROx2mPgA-MQg",
        "colab_type": "code",
        "colab": {
          "base_uri": "https://localhost:8080/",
          "height": 293
        },
        "outputId": "5fc8d7b3-fa00-40b8-a5a3-c374f6156e67"
      },
      "source": [
        "data['Exception'].value_counts().plot.bar()\n",
        "data['Exception'].value_counts()\n",
        "plt.xlabel(\"Exception (0 - NO, 1 - YES)\")\n",
        "plt.ylabel(\"Number of applicants\")"
      ],
      "execution_count": null,
      "outputs": [
        {
          "output_type": "execute_result",
          "data": {
            "text/plain": [
              "Text(0, 0.5, 'Number of applicants')"
            ]
          },
          "metadata": {
            "tags": []
          },
          "execution_count": 30
        },
        {
          "output_type": "display_data",
          "data": {
            "image/png": "[encoded data removed]",
            "text/plain": [
              "<Figure size 432x288 with 1 Axes>"
            ]
          },
          "metadata": {
            "tags": [],
            "needs_background": "light"
          }
        }
      ]
    },
    {
      "cell_type": "markdown",
      "metadata": {
        "id": "i80oFJjRKWDI",
        "colab_type": "text"
      },
      "source": [
        "#### Aid_percent - The percentage of fees that has been discounted. ( 0 | 25 | 50 | 75 )####"
      ]
    },
    {
      "cell_type": "code",
      "metadata": {
        "id": "4zDfb-xZEjiX",
        "colab_type": "code",
        "colab": {
          "base_uri": "https://localhost:8080/",
          "height": 299
        },
        "outputId": "3be76fe7-a036-4329-daa8-4358fe377cd9"
      },
      "source": [
        "data['Aid_percent'].value_counts().plot.bar()\n",
        "data['Aid_percent'].value_counts()\n",
        "plt.xlabel(\"Grant recieved (in percentage)\")\n",
        "plt.ylabel(\"Number of applicants\")"
      ],
      "execution_count": null,
      "outputs": [
        {
          "output_type": "execute_result",
          "data": {
            "text/plain": [
              "Text(0, 0.5, 'Number of applicants')"
            ]
          },
          "metadata": {
            "tags": []
          },
          "execution_count": 28
        },
        {
          "output_type": "display_data",
          "data": {
            "image/png": "[encoded data removed]",
            "text/plain": [
              "<Figure size 432x288 with 1 Axes>"
            ]
          },
          "metadata": {
            "tags": [],
            "needs_background": "light"
          }
        }
      ]
    },
    {
      "cell_type": "markdown",
      "metadata": {
        "id": "Pcew8RyEkZc5",
        "colab_type": "text"
      },
      "source": [
        "\n",
        "#### Aid_eligibility - Is the candidate eligible for aid or not?####\n",
        "\n"
      ]
    },
    {
      "cell_type": "code",
      "metadata": {
        "id": "V_ihPilJkdTF",
        "colab_type": "code",
        "colab": {
          "base_uri": "https://localhost:8080/",
          "height": 293
        },
        "outputId": "6c5dcc0f-71f0-45f7-ffc2-8d2d87028a01"
      },
      "source": [
        "data['Aid_eligibility'].value_counts().plot.bar()\n",
        "data['Aid_eligibility'].value_counts()\n",
        "plt.xlabel(\"Eligibility(0 - NO, 1 - YES)\")\n",
        "plt.ylabel(\"Number of applicants\")"
      ],
      "execution_count": null,
      "outputs": [
        {
          "output_type": "execute_result",
          "data": {
            "text/plain": [
              "Text(0, 0.5, 'Number of applicants')"
            ]
          },
          "metadata": {
            "tags": []
          },
          "execution_count": 31
        },
        {
          "output_type": "display_data",
          "data": {
            "image/png": "[encoded data removed]",
            "text/plain": [
              "<Figure size 432x288 with 1 Axes>"
            ]
          },
          "metadata": {
            "tags": [],
            "needs_background": "light"
          }
        }
      ]
    },
    {
      "cell_type": "markdown",
      "metadata": {
        "id": "oF8soOAPRvxp",
        "colab_type": "text"
      },
      "source": [
        "####Income classes - Class they belong to based on Annual family income. \n",
        "\n",
        "*   Poor (**1**)- Annual income less than 80000 pa\n",
        "*   Lower Class (**2**) - Annual income between 1 lac pa - 3.5 lac.\n",
        "*   Lower middle class (**3**) - 3.75 lacs to 9 lacs.\n",
        "*   Upper middle class(**4**)  - 10 lacs to 25 lacs\n",
        "*   Rich lower bracket (**5**) - 27 lacs to 50 lacs.\n",
        "*   Rich upper bracket (**6**) - 55 lacs to 1.5 crore"
      ]
    },
    {
      "cell_type": "code",
      "metadata": {
        "id": "ss1dghZZ7vVQ",
        "colab_type": "code",
        "colab": {
          "base_uri": "https://localhost:8080/",
          "height": 293
        },
        "outputId": "381d2b9d-ad5f-45ae-cd86-49880e7f2092"
      },
      "source": [
        "data['Income_class'].value_counts().plot.bar()\n",
        "data['Income_class'].value_counts()\n",
        "plt.xlabel(\"Income class\")\n",
        "plt.ylabel(\"Number of people belonging to the class\")"
      ],
      "execution_count": null,
      "outputs": [
        {
          "output_type": "execute_result",
          "data": {
            "text/plain": [
              "Text(0, 0.5, 'Number of people belonging to the class')"
            ]
          },
          "metadata": {
            "tags": []
          },
          "execution_count": 20
        },
        {
          "output_type": "display_data",
          "data": {
            "image/png": "[encoded data removed]",
            "text/plain": [
              "<Figure size 432x288 with 1 Axes>"
            ]
          },
          "metadata": {
            "tags": [],
            "needs_background": "light"
          }
        }
      ]
    },
    {
      "cell_type": "markdown",
      "metadata": {
        "id": "8oakiIZ_W-C9",
        "colab_type": "text"
      },
      "source": [
        "#### Plotting graphs to depict the relation between the variables   ####\n"
      ]
    },
    {
      "cell_type": "markdown",
      "metadata": {
        "id": "AXhrL4UPbxFM",
        "colab_type": "text"
      },
      "source": [
        "* **Electricity bill vs Income class**"
      ]
    },
    {
      "cell_type": "code",
      "metadata": {
        "id": "TgvO-k_PwbEx",
        "colab_type": "code",
        "colab": {
          "base_uri": "https://localhost:8080/",
          "height": 312
        },
        "outputId": "b5460f25-28cb-4cc1-b46c-39357337ac47"
      },
      "source": [
        "plt.scatter(data.Electricity_bill , data.Income_class ,marker= \".\" )\n",
        "plt.xlabel(\"Electricity bill amount\")\n",
        "plt.ylabel(\"Income Class\")\n",
        "plt.title(\"Relation between Electricity bill and Income classes\")"
      ],
      "execution_count": null,
      "outputs": [
        {
          "output_type": "execute_result",
          "data": {
            "text/plain": [
              "Text(0.5, 1.0, 'Relation between Electricity bill and Income classes')"
            ]
          },
          "metadata": {
            "tags": []
          },
          "execution_count": 7
        },
        {
          "output_type": "display_data",
          "data": {
            "image/png": "[encoded data removed]",
            "text/plain": [
              "<Figure size 432x288 with 1 Axes>"
            ]
          },
          "metadata": {
            "tags": [],
            "needs_background": "light"
          }
        }
      ]
    },
    {
      "cell_type": "markdown",
      "metadata": {
        "id": "9yzHKpDdb5Lk",
        "colab_type": "text"
      },
      "source": [
        "* **Electricity bill vs Discount percentage**"
      ]
    },
    {
      "cell_type": "code",
      "metadata": {
        "id": "wbtzNGoDwnQ8",
        "colab_type": "code",
        "colab": {
          "base_uri": "https://localhost:8080/",
          "height": 312
        },
        "outputId": "7ca5eb6e-1ede-46a1-9146-b965b8ac368e"
      },
      "source": [
        "plt.scatter(data.Electricity_bill , data.Aid_percent,marker= \".\")\n",
        "plt.xlabel(\"Electricity bill amount\")\n",
        "plt.ylabel(\"Fee waiver (in percent)\")\n",
        "plt.title(\"Relation between electricity bill and Fees waiver\")"
      ],
      "execution_count": null,
      "outputs": [
        {
          "output_type": "execute_result",
          "data": {
            "text/plain": [
              "Text(0.5, 1.0, 'Relation between electricity bill and Fees waiver')"
            ]
          },
          "metadata": {
            "tags": []
          },
          "execution_count": 8
        },
        {
          "output_type": "display_data",
          "data": {
            "image/png": "[encoded data removed]",
            "text/plain": [
              "<Figure size 432x288 with 1 Axes>"
            ]
          },
          "metadata": {
            "tags": [],
            "needs_background": "light"
          }
        }
      ]
    },
    {
      "cell_type": "markdown",
      "metadata": {
        "id": "RokZhNYPb_dq",
        "colab_type": "text"
      },
      "source": [
        "* **Electricity bill vs School fees**"
      ]
    },
    {
      "cell_type": "code",
      "metadata": {
        "id": "U94qMxkXw3ED",
        "colab_type": "code",
        "colab": {
          "base_uri": "https://localhost:8080/",
          "height": 312
        },
        "outputId": "a250ee56-8c81-4202-d115-4b722fe4ad07"
      },
      "source": [
        "plt.scatter(data.Electricity_bill , data.School_fees, marker= \".\")\n",
        "plt.xlabel(\"Electricity bill amount\")\n",
        "plt.ylabel(\"School fees (in rupees)\")\n",
        "plt.title(\"Relation between Electricity bill and School fees\")"
      ],
      "execution_count": null,
      "outputs": [
        {
          "output_type": "execute_result",
          "data": {
            "text/plain": [
              "Text(0.5, 1.0, 'Relation between Electricity bill and School fees')"
            ]
          },
          "metadata": {
            "tags": []
          },
          "execution_count": 9
        },
        {
          "output_type": "display_data",
          "data": {
            "image/png": "[encoded data removed]",
            "text/plain": [
              "<Figure size 432x288 with 1 Axes>"
            ]
          },
          "metadata": {
            "tags": [],
            "needs_background": "light"
          }
        }
      ]
    },
    {
      "cell_type": "markdown",
      "metadata": {
        "id": "C-tonLR7dxue",
        "colab_type": "text"
      },
      "source": [
        "##6 -  Pre-processing##"
      ]
    },
    {
      "cell_type": "markdown",
      "metadata": {
        "id": "xBxamsvydxpr",
        "colab_type": "text"
      },
      "source": [
        "Using the dataframae, declare the following variables:\n",
        "\n",
        "* X as the Feature Matrix (data of input variables)\n",
        "\n",
        "* y1 as the response vector for Aid eligibilty (target or output)\n",
        "\n",
        "* y2 as the respnse vector for Aid discount (target or output)\n",
        "\n",
        "Remove the column containing names since it doesn't contain any useful information for training."
      ]
    },
    {
      "cell_type": "code",
      "metadata": {
        "id": "s0YcZdDCCCN2",
        "colab_type": "code",
        "colab": {
          "base_uri": "https://localhost:8080/",
          "height": 272
        },
        "outputId": "8e199c4e-b490-4e93-ceee-c44359ac75c2"
      },
      "source": [
        "X = data[['Electricity_bill', 'Income_class', 'School_fees', 'Exception']] .values  #.astype(float)\n",
        "X[0:15]"
      ],
      "execution_count": null,
      "outputs": [
        {
          "output_type": "execute_result",
          "data": {
            "text/plain": [
              "array([[ 4235,     6, 83097,     0],\n",
              "       [ 4100,     2, 87792,     0],\n",
              "       [ 4036,     6, 90266,     0],\n",
              "       [ 1668,     3, 18965,     0],\n",
              "       [ 2910,     1, 40356,     0],\n",
              "       [ 2809,     4, 43226,     0],\n",
              "       [ 2815,     4, 47751,     0],\n",
              "       [ 2137,     4, 38549,     0],\n",
              "       [ 1335,     3, 24512,     0],\n",
              "       [ 2285,     4, 47825,     0],\n",
              "       [ 1487,     3, 26335,     0],\n",
              "       [ 2757,     4, 32023,     0],\n",
              "       [ 4605,     6, 96726,     0],\n",
              "       [ 1090,     3, 20932,     0],\n",
              "       [ 3497,     5, 69940,     0]])"
            ]
          },
          "metadata": {
            "tags": []
          },
          "execution_count": 10
        }
      ]
    },
    {
      "cell_type": "code",
      "metadata": {
        "id": "rIUNh14sE8RJ",
        "colab_type": "code",
        "colab": {
          "base_uri": "https://localhost:8080/",
          "height": 34
        },
        "outputId": "4c210327-6d31-4dea-8be1-b509ec4e0c9b"
      },
      "source": [
        "y1 = data['Aid_eligibility'].values\n",
        "y1[0:5]"
      ],
      "execution_count": null,
      "outputs": [
        {
          "output_type": "execute_result",
          "data": {
            "text/plain": [
              "array([0, 1, 0, 1, 1])"
            ]
          },
          "metadata": {
            "tags": []
          },
          "execution_count": 11
        }
      ]
    },
    {
      "cell_type": "code",
      "metadata": {
        "id": "lt1PuOmpc7u9",
        "colab_type": "code",
        "colab": {
          "base_uri": "https://localhost:8080/",
          "height": 34
        },
        "outputId": "fecd92a4-5f7d-472d-d476-9eede4c78b2a"
      },
      "source": [
        "y2 = data['Aid_percent'].values\n",
        "y2[0:5]"
      ],
      "execution_count": null,
      "outputs": [
        {
          "output_type": "execute_result",
          "data": {
            "text/plain": [
              "array([ 0, 50,  0, 25, 75])"
            ]
          },
          "metadata": {
            "tags": []
          },
          "execution_count": 12
        }
      ]
    },
    {
      "cell_type": "markdown",
      "metadata": {
        "id": "9ew88q_sfrjL",
        "colab_type": "text"
      },
      "source": [
        "###Standardization###"
      ]
    },
    {
      "cell_type": "markdown",
      "metadata": {
        "id": "YPZcikJffbKg",
        "colab_type": "text"
      },
      "source": [
        "Standardization of a dataset is a common requirement for many machine learning estimators: they might behave badly if the individual features do not more or less look like standard normally distributed data.Standardize features by removing the mean and scaling to unit variance\n",
        "\n",
        "The standard score of a sample x is calculated as:\n",
        "\n",
        "z = (x - u) / s\n",
        "\n",
        "where u is the mean of the training samples or zero if with_mean=False, and s is the standard deviation of the training samples or one if with_std=False.\n",
        "\n",
        "Centering and scaling happen independently on each feature by computing the relevant statistics on the samples in the training set. Mean and standard deviation are then stored to be used on later data using transform."
      ]
    },
    {
      "cell_type": "code",
      "metadata": {
        "id": "zR4JWIsXdFfE",
        "colab_type": "code",
        "colab": {
          "base_uri": "https://localhost:8080/",
          "height": 102
        },
        "outputId": "d91977c6-9ff7-472d-c25c-4006e150e5a4"
      },
      "source": [
        "from sklearn import preprocessing\n",
        "X = preprocessing.StandardScaler().fit(X).transform(X.astype(float))\n",
        "X[0:5]"
      ],
      "execution_count": null,
      "outputs": [
        {
          "output_type": "execute_result",
          "data": {
            "text/plain": [
              "array([[ 1.216747  ,  1.49598194,  1.28967227, -0.2847474 ],\n",
              "       [ 1.11654946, -1.30679453,  1.45367765, -0.2847474 ],\n",
              "       [ 1.0690484 ,  1.49598194,  1.54009923, -0.2847474 ],\n",
              "       [-0.68849071, -0.60610041, -0.95058181, -0.2847474 ],\n",
              "       [ 0.23332668, -2.00748865, -0.20335305, -0.2847474 ]])"
            ]
          },
          "metadata": {
            "tags": []
          },
          "execution_count": 13
        }
      ]
    },
    {
      "cell_type": "markdown",
      "metadata": {
        "id": "6a3KbvxNgQ6Z",
        "colab_type": "text"
      },
      "source": [
        "###Test Train Split###\n",
        "Out of Sample Accuracy is the percentage of correct predictions that the model makes on data that that the model has NOT been trained on. Doing a train and test on the same dataset will most likely have low out-of-sample accuracy, due to the likelihood of being over-fit.\n",
        "\n",
        "It is important that our models have a high, out-of-sample accuracy, because the purpose of any model, of course, is to make correct predictions on unknown data. So how can we improve out-of-sample accuracy? One way is to use an evaluation approach called Train/Test Split. Train/Test Split involves splitting the dataset into training and testing sets respectively, which are mutually exclusive. After which, you train with the training set and test with the testing set.\n",
        "\n",
        "This will provide a more accurate evaluation on out-of-sample accuracy because the testing dataset is not part of the dataset that have been used to train the data. It is more realistic for real world problems."
      ]
    },
    {
      "cell_type": "code",
      "metadata": {
        "id": "UdRrjfFmdJvs",
        "colab_type": "code",
        "colab": {}
      },
      "source": [
        "X1_train, X1_test, y1_train, y1_test = train_test_split(X,y1,test_size=0.3, shuffle=True ,random_state = 52)"
      ],
      "execution_count": null,
      "outputs": []
    },
    {
      "cell_type": "markdown",
      "metadata": {
        "id": "r3nDQbyOgxHU",
        "colab_type": "text"
      },
      "source": [
        "##7 - Modelling and Prediction##"
      ]
    },
    {
      "cell_type": "markdown",
      "metadata": {
        "id": "yT2_ekqyi57j",
        "colab_type": "text"
      },
      "source": [
        "Aid Eligibility of the applicant: "
      ]
    },
    {
      "cell_type": "code",
      "metadata": {
        "id": "1fBrVlLygifV",
        "colab_type": "code",
        "colab": {
          "base_uri": "https://localhost:8080/",
          "height": 34
        },
        "outputId": "ab6835da-fab3-443a-b14f-415deca23a8d"
      },
      "source": [
        "from sklearn.linear_model import LogisticRegressionCV\n",
        "model = LogisticRegressionCV(solver=\"newton-cg\") \n",
        "model.fit(X1_train, y1_train)\n",
        "model.score(X1_test,y1_test)"
      ],
      "execution_count": null,
      "outputs": [
        {
          "output_type": "execute_result",
          "data": {
            "text/plain": [
              "1.0"
            ]
          },
          "metadata": {
            "tags": []
          },
          "execution_count": 15
        }
      ]
    },
    {
      "cell_type": "code",
      "metadata": {
        "id": "5fvTkxoTddJe",
        "colab_type": "code",
        "colab": {}
      },
      "source": [
        "pred1 = model.predict(X1_test)"
      ],
      "execution_count": null,
      "outputs": []
    },
    {
      "cell_type": "code",
      "metadata": {
        "id": "4X6XwVIdeyrs",
        "colab_type": "code",
        "colab": {
          "base_uri": "https://localhost:8080/",
          "height": 51
        },
        "outputId": "d0f75a26-8fa7-4375-99b3-080cad833f6f"
      },
      "source": [
        "from sklearn.metrics import confusion_matrix\n",
        "cm = confusion_matrix(y1_test,pred1)\n",
        "print(cm)"
      ],
      "execution_count": null,
      "outputs": [
        {
          "output_type": "stream",
          "text": [
            "[[31  0]\n",
            " [ 0 29]]\n"
          ],
          "name": "stdout"
        }
      ]
    },
    {
      "cell_type": "code",
      "metadata": {
        "id": "ixF5lM95j19L",
        "colab_type": "code",
        "colab": {
          "base_uri": "https://localhost:8080/",
          "height": 51
        },
        "outputId": "f1779ea5-c576-4dfe-c36b-b2bc716e130f"
      },
      "source": [
        "from sklearn import metrics\n",
        "print(\"Train set Accuracy: \", metrics.accuracy_score(y1_train, model.predict(X1_train)))\n",
        "print(\"Test set Accuracy: \", metrics.accuracy_score(y1_test, pred1))"
      ],
      "execution_count": null,
      "outputs": [
        {
          "output_type": "stream",
          "text": [
            "Train set Accuracy:  1.0\n",
            "Test set Accuracy:  1.0\n"
          ],
          "name": "stdout"
        }
      ]
    },
    {
      "cell_type": "markdown",
      "metadata": {
        "id": "aobzOEgJjnq0",
        "colab_type": "text"
      },
      "source": [
        "**Comment**: Both Training and Testing accuracies are equal to 1.0 (100%). Our model is able to predict the eligibilities with 100% accuracy. It has decoded the underlying relations in the data and using it to correctly classify unseen data."
      ]
    },
    {
      "cell_type": "markdown",
      "metadata": {
        "id": "NErR5nLNjIeu",
        "colab_type": "text"
      },
      "source": [
        "Discount granted:"
      ]
    },
    {
      "cell_type": "code",
      "metadata": {
        "id": "UShV5Leq8QTM",
        "colab_type": "code",
        "colab": {
          "base_uri": "https://localhost:8080/",
          "height": 34
        },
        "outputId": "8102dabe-e7e3-47b2-dbcd-c1d5794a87a1"
      },
      "source": [
        "X2_train, X2_test, y2_train, y2_test = train_test_split(X, y2, test_size=0.3, shuffle=True ,random_state = 82)\n",
        "from sklearn.linear_model import LogisticRegressionCV\n",
        "model = LogisticRegressionCV(solver=\"newton-cg\") \n",
        "model.fit(X2_train, y2_train)\n",
        "model.score(X2_test,y2_test)"
      ],
      "execution_count": null,
      "outputs": [
        {
          "output_type": "execute_result",
          "data": {
            "text/plain": [
              "0.95"
            ]
          },
          "metadata": {
            "tags": []
          },
          "execution_count": 19
        }
      ]
    },
    {
      "cell_type": "code",
      "metadata": {
        "id": "TJKiXOMm54ap",
        "colab_type": "code",
        "colab": {}
      },
      "source": [
        "pred2 = model.predict(X2_test)"
      ],
      "execution_count": null,
      "outputs": []
    },
    {
      "cell_type": "code",
      "metadata": {
        "id": "_eCiZqei6Hpp",
        "colab_type": "code",
        "colab": {
          "base_uri": "https://localhost:8080/",
          "height": 85
        },
        "outputId": "ded308d4-5d71-4c3c-e7dc-6d3c3a24679b"
      },
      "source": [
        "from sklearn.metrics import confusion_matrix\n",
        "cm = confusion_matrix(y2_test,pred2)\n",
        "print(cm)"
      ],
      "execution_count": null,
      "outputs": [
        {
          "output_type": "stream",
          "text": [
            "[[32  0  0  0]\n",
            " [ 0 13  0  0]\n",
            " [ 0  1  9  0]\n",
            " [ 0  2  0  3]]\n"
          ],
          "name": "stdout"
        }
      ]
    },
    {
      "cell_type": "code",
      "metadata": {
        "id": "4EkMKbpM6LFZ",
        "colab_type": "code",
        "colab": {
          "base_uri": "https://localhost:8080/",
          "height": 51
        },
        "outputId": "5cd10f5f-2b97-48a1-d696-b9bb181e0906"
      },
      "source": [
        "from sklearn import metrics\n",
        "print(\"Train set Accuracy: \", metrics.accuracy_score(y2_train, model.predict(X2_train)))\n",
        "print(\"Test set Accuracy: \", metrics.accuracy_score(y2_test, pred2))"
      ],
      "execution_count": null,
      "outputs": [
        {
          "output_type": "stream",
          "text": [
            "Train set Accuracy:  0.9428571428571428\n",
            "Test set Accuracy:  0.95\n"
          ],
          "name": "stdout"
        }
      ]
    },
    {
      "cell_type": "markdown",
      "metadata": {
        "id": "D0pffuyYkllC",
        "colab_type": "text"
      },
      "source": [
        "**Comment**: Both Training and Testing accuracies are close to 1.0 (100%). Our model is able to predict the discount to be given based on the input features with almost 100% accuracy. It has decoded the underlying relations in the data and using it to correctly classify unseen data."
      ]
    },
    {
      "cell_type": "markdown",
      "metadata": {
        "id": "0--AiZcJkoIO",
        "colab_type": "text"
      },
      "source": [
        "<h1><center>Thank you for following along. </center></h1>"
      ]
    }
  ]
}